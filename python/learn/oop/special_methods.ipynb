{
 "cells": [
  {
   "cell_type": "markdown",
   "id": "1e5e9045",
   "metadata": {},
   "source": [
    "# Special Methods in Python\n",
    "This notebook demonstrates the use of special (dunder) methods in Python classes, such as `__repr__`, `__str__`, `__add__`, and `__len__`."
   ]
  },
  {
   "cell_type": "markdown",
   "id": "1386e38f",
   "metadata": {},
   "source": [
    "## Defining the `Employee` Class\n",
    "The `Employee` class includes special methods to customize its behavior for string representation, addition, and length calculation."
   ]
  },
  {
   "cell_type": "code",
   "execution_count": null,
   "id": "2e72fc7b",
   "metadata": {},
   "outputs": [],
   "source": [
    "# Class Employee\n",
    "class Employee:\n",
    "    # class variables\n",
    "    num_of_emps = 0\n",
    "    raise_amount = 1.04\n",
    "    \n",
    "    # class attributes\n",
    "    def __init__(self, first, last, pay):\n",
    "        self.first = first\n",
    "        self.last = last\n",
    "        self.pay = pay\n",
    "        self.email = first + '.' + last + '@company.com'\n",
    "        \n",
    "        # Update class variable for each instance creation\n",
    "        Employee.num_of_emps += 1\n",
    "        \n",
    "    # basic methods\n",
    "    def full_name(self):\n",
    "        return f'{self.first} {self.last}'\n",
    "    \n",
    "    def apply_raise(self):\n",
    "        self.pay = int(self.pay * self.raise_amount)\n",
    "        \n",
    "    # special methods\n",
    "    def __repr__(self):\n",
    "        return f'Employee({self.first}, {self.last}, {self.pay})'\n",
    "    \n",
    "    def __str__(self):\n",
    "        return f'{self.full_name()} - {self.email}'\n",
    "    \n",
    "    def __add__(self, other):\n",
    "        return self.pay + other.pay\n",
    "    \n",
    "    def __len__(self):\n",
    "        return len(self.full_name())"
   ]
  },
  {
   "cell_type": "markdown",
   "id": "eddac27e",
   "metadata": {},
   "source": [
    "## Creating Employee Instances\n",
    "Here, we create instances of the `Employee` class and demonstrate the use of special methods."
   ]
  },
  {
   "cell_type": "code",
   "execution_count": null,
   "id": "aaf642c0",
   "metadata": {},
   "outputs": [
    {
     "name": "stdout",
     "output_type": "stream",
     "text": [
      "110000\n",
      "8\n"
     ]
    }
   ],
   "source": [
    "# Create Employee instances\n",
    "emp_1 = Employee('John', 'Doe', 50000)\n",
    "emp_2 = Employee('Jane', 'Smith', 60000)\n",
    "emp_3 = Employee('Jim', 'Brown', 70000)\n",
    "\n",
    "# Demonstrate __repr__ and __str__\n",
    "print(repr(emp_1))\n",
    "print(str(emp_1))"
   ]
  },
  {
   "cell_type": "markdown",
   "id": "5d9ba6df",
   "metadata": {},
   "source": [
    "## Using the `__add__` Method\n",
    "The `__add__` method allows us to add the salaries of two employees using the `+` operator."
   ]
  },
  {
   "cell_type": "code",
   "execution_count": null,
   "id": "a2352f36",
   "metadata": {},
   "outputs": [],
   "source": [
    "# Demonstrate __add__\n",
    "print(emp_1 + emp_2)  # Output: 110000"
   ]
  },
  {
   "cell_type": "markdown",
   "id": "107758f6",
   "metadata": {},
   "source": [
    "## Using the `__len__` Method\n",
    "The `__len__` method returns the length of the employee's full name."
   ]
  },
  {
   "cell_type": "code",
   "execution_count": null,
   "id": "f976d377",
   "metadata": {},
   "outputs": [],
   "source": [
    "# Demonstrate __len__\n",
    "print(len(emp_1))  # Output: 8 (length of 'John Doe')"
   ]
  },
  {
   "cell_type": "markdown",
   "id": "8cef2dba",
   "metadata": {},
   "source": [
    "## Summary\n",
    "This notebook covered the use of special methods in Python to customize class behavior for string representation, addition, and length calculation."
   ]
  }
 ],
 "metadata": {
  "kernelspec": {
   "display_name": "Python 3",
   "language": "python",
   "name": "python3"
  },
  "language_info": {
   "codemirror_mode": {
    "name": "ipython",
    "version": 3
   },
   "file_extension": ".py",
   "mimetype": "text/x-python",
   "name": "python",
   "nbconvert_exporter": "python",
   "pygments_lexer": "ipython3",
   "version": "3.13.0"
  }
 },
 "nbformat": 4,
 "nbformat_minor": 5
}
