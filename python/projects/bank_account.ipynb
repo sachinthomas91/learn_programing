{
 "cells": [
  {
   "cell_type": "markdown",
   "id": "fa030218",
   "metadata": {},
   "source": [
    "# Bank Account Class Demonstration\n",
    "This notebook demonstrates the usage of the `BankAccount` class, including account creation, transactions, and failure scenarios. It is designed to help beginners understand the basics of object-oriented programming (OOP) in Python.\n",
    "\n",
    "Object-oriented programming (OOP) is a programming paradigm that uses objects and classes to structure code. This notebook will guide you through the creation and usage of a `BankAccount` class step by step."
   ]
  },
  {
   "cell_type": "code",
   "execution_count": 1,
   "id": "2d0aa798",
   "metadata": {},
   "outputs": [],
   "source": [
    "# Define the BankAccount class\n",
    "# This class represents a simple bank account with basic operations like deposit, withdraw, and balance inquiry.\n",
    "class BankAccount:\n",
    "    # Class variable to keep track of the next default account number\n",
    "    default_account_number = 1000\n",
    "    instances = []\n",
    "    \n",
    "    def __init__(self, name, account_number=None, balance=0):\n",
    "        # Initialize the account with a name, optional account number, and balance\n",
    "        self.name = name  # Name of the account holder\n",
    "        self.balance = balance  # Initial balance\n",
    "        # Automatically assign a unique account number unless provided\n",
    "        if account_number is None or account_number == \"\":\n",
    "            # Assign the next available account number\n",
    "            # and increment the default account number for the next instance\n",
    "            self.account_number = BankAccount.default_account_number\n",
    "            BankAccount.default_account_number += 1\n",
    "        else:\n",
    "            self.account_number = account_number\n",
    "        BankAccount.instances.append(self)\n",
    "\n",
    "    def deposit(self, amount):\n",
    "        # Add money to the account\n",
    "        if amount > 0:\n",
    "            self.balance += amount\n",
    "            return True\n",
    "        print(\"Deposit amount must be greater than zero\")\n",
    "        return False\n",
    "\n",
    "    def withdraw(self, amount):\n",
    "        # Withdraw money from the account if sufficient balance exists\n",
    "        if 0 < amount <= self.balance:\n",
    "            self.balance -= amount\n",
    "            return True\n",
    "        print(\"Not enough balance or invalid amount\")\n",
    "        return False\n",
    "\n",
    "    def get_balance(self):\n",
    "        # Return the current balance\n",
    "        return self.balance\n",
    "\n",
    "    def display_details(self):\n",
    "        # Print the account details\n",
    "        print(f'Account Holder: {self.name}')\n",
    "        print(f'Account Number: {self.account_number}')\n",
    "        print(f'Balance: ${self.get_balance()}')\n",
    "        print('-' * 30)"
   ]
  },
  {
   "cell_type": "markdown",
   "id": "96b9420b",
   "metadata": {},
   "source": [
    "## Bank Account Creation\n",
    "This section demonstrates how to create bank accounts using the `BankAccount` class. It includes examples of accounts with custom account numbers, auto-generated account numbers, and default balances."
   ]
  },
  {
   "cell_type": "code",
   "execution_count": 2,
   "id": "ad6b359b",
   "metadata": {},
   "outputs": [],
   "source": [
    "# Create accounts with different initialization methods\n",
    "# 1. Account with a custom account number\n",
    "account1 = BankAccount(name='Alice', account_number=1234, balance=500)\n",
    "# 2. Account with an auto-generated account number\n",
    "account2 = BankAccount(name='Bob', account_number=None, balance=1000)\n",
    "# 3. Account with default balance & account number\n",
    "account3 = BankAccount(name='Charlie', account_number='')\n",
    "# 4. Account with only required attribute\n",
    "account4 = BankAccount(name='Dianne')"
   ]
  },
  {
   "cell_type": "markdown",
   "id": "a8364abc",
   "metadata": {},
   "source": [
    "## Bank Account State\n",
    "This section prints the current state of all bank accounts. It demonstrates how to use the `display_details` method to view account information."
   ]
  },
  {
   "cell_type": "code",
   "execution_count": 3,
   "id": "014c4bea",
   "metadata": {},
   "outputs": [
    {
     "name": "stdout",
     "output_type": "stream",
     "text": [
      "***** Bank Accounts State *****\n",
      "Account Holder: Alice\n",
      "Account Number: 1234\n",
      "Balance: $500\n",
      "------------------------------\n",
      "Account Holder: Bob\n",
      "Account Number: 1000\n",
      "Balance: $1000\n",
      "------------------------------\n",
      "Account Holder: Charlie\n",
      "Account Number: 1001\n",
      "Balance: $0\n",
      "------------------------------\n",
      "Account Holder: Dianne\n",
      "Account Number: 1002\n",
      "Balance: $0\n",
      "------------------------------\n"
     ]
    }
   ],
   "source": [
    "# Display details of all Class instances\n",
    "print('***** Bank Accounts State *****')\n",
    "for account in BankAccount.instances:\n",
    "    account.display_details()"
   ]
  },
  {
   "cell_type": "markdown",
   "id": "e0c68f43",
   "metadata": {},
   "source": [
    "## Perform Transactions\n",
    "This section demonstrates deposit and withdrawal transactions. It shows how to add money to an account and withdraw money while ensuring the operations are valid."
   ]
  },
  {
   "cell_type": "code",
   "execution_count": 4,
   "id": "be03c491",
   "metadata": {},
   "outputs": [
    {
     "data": {
      "text/plain": [
       "True"
      ]
     },
     "execution_count": 4,
     "metadata": {},
     "output_type": "execute_result"
    }
   ],
   "source": [
    "# Deposit money into accounts\n",
    "account3.deposit(200)  # Charlie deposits $200\n",
    "account4.deposit(500)  # Dianne deposits $500\n",
    "\n",
    "# Withdraw money from accounts\n",
    "account3.withdraw(100)  # Charlie withdraws $100\n",
    "account4.withdraw(50)   # Dianne attempts to withdraw $50 "
   ]
  },
  {
   "cell_type": "markdown",
   "id": "78c14dcb",
   "metadata": {},
   "source": [
    "## Bank Account State\n",
    "This section prints the current state of all bank accounts after performing transactions."
   ]
  },
  {
   "cell_type": "code",
   "execution_count": 5,
   "id": "b46ce5d6",
   "metadata": {},
   "outputs": [
    {
     "name": "stdout",
     "output_type": "stream",
     "text": [
      "***** Bank Accounts State *****\n",
      "Account Holder: Alice\n",
      "Account Number: 1234\n",
      "Balance: $500\n",
      "------------------------------\n",
      "Account Holder: Bob\n",
      "Account Number: 1000\n",
      "Balance: $1000\n",
      "------------------------------\n",
      "Account Holder: Charlie\n",
      "Account Number: 1001\n",
      "Balance: $100\n",
      "------------------------------\n",
      "Account Holder: Dianne\n",
      "Account Number: 1002\n",
      "Balance: $450\n",
      "------------------------------\n"
     ]
    }
   ],
   "source": [
    "# Display details of all Class instances\n",
    "print('***** Bank Accounts State *****')\n",
    "for account in BankAccount.instances:\n",
    "    account.display_details()"
   ]
  },
  {
   "cell_type": "markdown",
   "id": "80c3a41a",
   "metadata": {},
   "source": [
    "## Handle Failure Scenarios\n",
    "This section demonstrates scenarios where transactions fail, such as depositing a negative amount or withdrawing more than the available balance. These examples help understand how to handle invalid operations gracefully.\n",
    "\n",
    "By handling these scenarios, you can ensure the robustness of the `BankAccount` class."
   ]
  },
  {
   "cell_type": "code",
   "execution_count": 6,
   "id": "5bf04f1d",
   "metadata": {},
   "outputs": [
    {
     "name": "stdout",
     "output_type": "stream",
     "text": [
      "Deposit amount must be greater than zero\n",
      "Deposit failed!\n",
      "Not enough balance or invalid amount\n",
      "Withdrawal failed!\n",
      "Not enough balance or invalid amount\n",
      "Negative withdrawal failed!\n"
     ]
    }
   ],
   "source": [
    "# Showcase failure scenarios\n",
    "# Attempt to deposit a negative amount\n",
    "deposit_result = account1.deposit(-50)  # Should fail\n",
    "print(f'Deposit failed!')\n",
    "\n",
    "# Attempt to withdraw more than the balance\n",
    "withdraw_result = account2.withdraw(2000)  # Should fail\n",
    "print(f'Withdrawal failed!')\n",
    "\n",
    "# Attempt to withdraw a negative amount\n",
    "withdraw_result_negative = account3.withdraw(-10)  # Should fail\n",
    "print(f'Negative withdrawal failed!')"
   ]
  },
  {
   "cell_type": "markdown",
   "id": "d705dc1b",
   "metadata": {},
   "source": [
    "## Check Balances\n",
    "This section verifies the final balances of all accounts after performing transactions and handling failure scenarios. It demonstrates the use of the `get_balance` method."
   ]
  },
  {
   "cell_type": "code",
   "execution_count": 7,
   "id": "933bc96f",
   "metadata": {},
   "outputs": [
    {
     "name": "stdout",
     "output_type": "stream",
     "text": [
      "Balance of Alice's account: $500\n",
      "Balance of Bob's account: $1000\n",
      "Balance of Charlie's account: $100\n",
      "Balance of Dianne's account: $450\n"
     ]
    }
   ],
   "source": [
    "# Display balances of all accounts\n",
    "print(f\"Balance of {account1.name}'s account: ${account1.get_balance()}\")\n",
    "print(f\"Balance of {account2.name}'s account: ${account2.get_balance()}\")\n",
    "print(f\"Balance of {account3.name}'s account: ${account3.get_balance()}\")\n",
    "print(f\"Balance of {account4.name}'s account: ${account4.get_balance()}\")"
   ]
  }
 ],
 "metadata": {
  "kernelspec": {
   "display_name": "Python 3",
   "language": "python",
   "name": "python3"
  },
  "language_info": {
   "codemirror_mode": {
    "name": "ipython",
    "version": 3
   },
   "file_extension": ".py",
   "mimetype": "text/x-python",
   "name": "python",
   "nbconvert_exporter": "python",
   "pygments_lexer": "ipython3",
   "version": "3.13.0"
  }
 },
 "nbformat": 4,
 "nbformat_minor": 5
}
