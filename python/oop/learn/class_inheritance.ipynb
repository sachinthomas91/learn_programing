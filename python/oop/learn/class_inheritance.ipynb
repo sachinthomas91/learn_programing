{
 "cells": [
  {
   "cell_type": "markdown",
   "id": "677da839",
   "metadata": {},
   "source": [
    "# Class Inheritance in Python\n",
    "This notebook demonstrates the concept of class inheritance in Python using examples of `Employee`, `Developer`, and `Manager` classes."
   ]
  },
  {
   "cell_type": "code",
   "execution_count": null,
   "id": "b059cf09",
   "metadata": {},
   "outputs": [],
   "source": [
    "# Base Class: Employee\n",
    "class Employee:\n",
    "    # class variables\n",
    "    num_of_emps = 0\n",
    "    raise_amount = 1.04\n",
    "    \n",
    "    # class attributes\n",
    "    def __init__(self, first, last, pay):\n",
    "        self.first = first\n",
    "        self.last = last\n",
    "        self.pay = pay\n",
    "        self.email = first + '.' + last + '@company.com'\n",
    "        \n",
    "        #class self update for each instance creation    \n",
    "        Employee.num_of_emps += 1\n",
    "        \n",
    "    # basic methods\n",
    "    def full_name(self):\n",
    "        return f'{self.first} {self.last}'\n",
    "    \n",
    "    def apply_raise(self):\n",
    "        self.pay = int(self.pay * self.raise_amount)\n",
    "        "
   ]
  },
  {
   "cell_type": "markdown",
   "id": "7b5e886b",
   "metadata": {},
   "source": [
    "### Developer Class\n",
    "The `Developer` class inherits from the `Employee` class and adds a new attribute `prog_lang`."
   ]
  },
  {
   "cell_type": "code",
   "execution_count": null,
   "id": "373e9169",
   "metadata": {},
   "outputs": [],
   "source": [
    "# Subclass: Developer\n",
    "class Developer(Employee):\n",
    "    raise_amt = 1.10\n",
    "    \n",
    "    # class attributes\n",
    "    def __init__(self, first, last, pay, prog_lang):\n",
    "        super().__init__(first, last, pay)\n",
    "        self.prog_lang = prog_lang\n",
    "        "
   ]
  },
  {
   "cell_type": "markdown",
   "id": "120e89bc",
   "metadata": {},
   "source": [
    "### Manager Class\n",
    "The `Manager` class inherits from the `Employee` class and manages a list of employees."
   ]
  },
  {
   "cell_type": "code",
   "execution_count": null,
   "id": "07dc7a99",
   "metadata": {},
   "outputs": [],
   "source": [
    "# Subclass: Manager\n",
    "class Manager(Employee):\n",
    "    \n",
    "    def __init__(self, first, last, pay, employees=None):\n",
    "        super().__init__(first, last, pay)\n",
    "        if employees is None:\n",
    "            self.employees = []\n",
    "        else:\n",
    "            self.employees = employees\n",
    "            \n",
    "    def add_emp(self, emp):\n",
    "        if emp not in self.employees:\n",
    "            self.employees.append(emp)\n",
    "            \n",
    "    def remove_emp(self, emp):\n",
    "        if emp in self.employees:\n",
    "            self.employees.remove(emp)\n",
    "            \n",
    "    def print_emps(self):\n",
    "        for emp in self.employees:\n",
    "            print('===>', emp.full_name())\n",
    "    \n",
    "    \n",
    "    "
   ]
  },
  {
   "cell_type": "markdown",
   "id": "9fb46b19",
   "metadata": {},
   "source": [
    "### Instance Creation\n",
    "Let's create instances of `Developer` and `Manager` classes and demonstrate their functionalities."
   ]
  },
  {
   "cell_type": "code",
   "execution_count": null,
   "id": "2e2dbe76",
   "metadata": {},
   "outputs": [],
   "source": [
    "# Creating Developer Instances\n",
    "dev_1 = Developer('Hin', 'Mas', 1000000, 'Python')\n",
    "dev_2 = Developer('Cin', 'Mes', 2500000, 'C++')\n",
    "\n",
    "# Creating Manager Instance\n",
    "mngr_1 = Manager('Sue', 'Smith', 5000000, [dev_1])"
   ]
  },
  {
   "cell_type": "markdown",
   "id": "a8b45df8",
   "metadata": {},
   "source": [
    "### Demonstrating Manager Functionalities\n",
    "The `Manager` class can add or remove employees and print the list of employees they manage."
   ]
  },
  {
   "cell_type": "code",
   "execution_count": null,
   "id": "0b96be5d",
   "metadata": {},
   "outputs": [],
   "source": [
    "# Adding and Removing Employees\n",
    "mngr_1.add_emp(dev_2)\n",
    "mngr_1.print_emps()\n",
    "\n",
    "mngr_1.remove_emp(dev_1)\n",
    "mngr_1.print_emps()"
   ]
  }
 ],
 "metadata": {
  "kernelspec": {
   "display_name": "Python 3",
   "language": "python",
   "name": "python3"
  },
  "language_info": {
   "codemirror_mode": {
    "name": "ipython",
    "version": 3
   },
   "file_extension": ".py",
   "mimetype": "text/x-python",
   "name": "python",
   "nbconvert_exporter": "python",
   "pygments_lexer": "ipython3",
   "version": "3.13.0"
  }
 },
 "nbformat": 4,
 "nbformat_minor": 5
}
