{
 "cells": [
  {
   "cell_type": "markdown",
   "id": "81c8923f",
   "metadata": {},
   "source": [
    "# Property Decorators in Python\n",
    "This notebook demonstrates the use of property decorators in Python to manage class attributes effectively."
   ]
  },
  {
   "cell_type": "code",
   "execution_count": null,
   "id": "4a217d83",
   "metadata": {},
   "outputs": [],
   "source": [
    "# Class Employee with Property Decorators\n",
    "class Employee:\n",
    "    # class variables\n",
    "    num_of_emps = 0\n",
    "    raise_amount = 1.04\n",
    "    \n",
    "    # class attributes\n",
    "    def __init__(self, first, last, pay):\n",
    "        self.first = first\n",
    "        self.last = last\n",
    "        self.pay = pay\n",
    "        \n",
    "        #class self update for each instance creation    \n",
    "        Employee.num_of_emps += 1\n",
    "        \n",
    "    @property\n",
    "    def email(self):\n",
    "        return f'{self.first}.{self.last}@company.com'\n",
    "        \n",
    "    @property\n",
    "    def full_name(self):\n",
    "        return f'{self.first} {self.last}'\n",
    "    \n",
    "    @full_name.setter\n",
    "    def full_name(self, name):\n",
    "        first, last = name.split(' ')\n",
    "        self.first = first\n",
    "        self.last = last\n",
    "    \n",
    "    @full_name.deleter\n",
    "    def full_name(self):\n",
    "        print('Deleting name!')\n",
    "        self.first = None\n",
    "        self.last = None\n",
    "    \n",
    "    \n",
    "emp_1 = Employee('John', 'Doe', 50000)\n",
    "emp_2 = Employee('Jane', 'Smith', 60000)\n",
    "emp_3 = Employee('Jim', 'Brown', 70000)"
   ]
  },
  {
   "cell_type": "markdown",
   "id": "d81c6736",
   "metadata": {},
   "source": [
    "### Accessing Properties\n",
    "Let's access the `email` and `full_name` properties of the `Employee` class."
   ]
  },
  {
   "cell_type": "code",
   "execution_count": null,
   "id": "4cd4da19",
   "metadata": {},
   "outputs": [
    {
     "name": "stdout",
     "output_type": "stream",
     "text": [
      "John.Doe@company.com\n",
      "Jane Smith\n"
     ]
    }
   ],
   "source": [
    "# Accessing Properties\n",
    "print(emp_1.email)\n",
    "print(emp_2.full_name)"
   ]
  },
  {
   "cell_type": "markdown",
   "id": "6efde0f9",
   "metadata": {},
   "source": [
    "### Modifying Properties\n",
    "Using the `setter` decorator, we can modify the `full_name` property."
   ]
  },
  {
   "cell_type": "code",
   "execution_count": null,
   "id": "6f3f69e9",
   "metadata": {},
   "outputs": [],
   "source": [
    "# Modifying Full Name\n",
    "emp_1.full_name = 'John Smithson'\n",
    "print(emp_1.full_name)"
   ]
  },
  {
   "cell_type": "markdown",
   "id": "739727be",
   "metadata": {},
   "source": [
    "### Deleting Properties\n",
    "Using the `deleter` decorator, we can delete the `full_name` property."
   ]
  },
  {
   "cell_type": "code",
   "execution_count": null,
   "id": "f1c67be0",
   "metadata": {},
   "outputs": [
    {
     "name": "stdout",
     "output_type": "stream",
     "text": [
      "John Smithson\n"
     ]
    }
   ],
   "source": [
    "# Deleting Full Name\n",
    "del emp_1.full_name\n",
    "print(emp_1.first)\n",
    "print(emp_1.last)"
   ]
  }
 ],
 "metadata": {
  "kernelspec": {
   "display_name": "Python 3",
   "language": "python",
   "name": "python3"
  },
  "language_info": {
   "codemirror_mode": {
    "name": "ipython",
    "version": 3
   },
   "file_extension": ".py",
   "mimetype": "text/x-python",
   "name": "python",
   "nbconvert_exporter": "python",
   "pygments_lexer": "ipython3",
   "version": "3.13.0"
  }
 },
 "nbformat": 4,
 "nbformat_minor": 5
}
